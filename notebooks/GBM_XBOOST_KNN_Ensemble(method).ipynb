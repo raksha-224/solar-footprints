{
 "cells": [
  {
   "cell_type": "markdown",
   "id": "3088cf50-ead3-4863-8927-235348e42f79",
   "metadata": {},
   "source": [
    "**PCA, GBM, XGBoost algorithms getting considered in this notebook**"
   ]
  },
  {
   "cell_type": "code",
   "execution_count": 54,
   "id": "9055e86d-bc50-48db-b762-58b99fc8efad",
   "metadata": {},
   "outputs": [],
   "source": [
    "#importing all the necessary libraries\n",
    "import pandas as pd\n",
    "import matplotlib.pyplot as plt\n",
    "import seaborn as sns\n",
    "from sklearn.decomposition import PCA\n",
    "from sklearn.model_selection import train_test_split\n",
    "from sklearn.ensemble import GradientBoostingClassifier\n",
    "from sklearn.metrics import classification_report, accuracy_score,confusion_matrix,ConfusionMatrixDisplay,roc_auc_score,roc_curve,auc\n",
    "from sklearn.preprocessing import label_binarize\n",
    "from sklearn.model_selection import  GridSearchCV\n",
    "import xgboost as xgb"
   ]
  },
  {
   "cell_type": "code",
   "execution_count": 55,
   "id": "ab0f6b5a-2ab6-4e06-a517-95484d01f889",
   "metadata": {},
   "outputs": [
    {
     "name": "stdout",
     "output_type": "stream",
     "text": [
      "Index(['ID', 'County', 'InstallType', 'UrbanRural', 'Class', 'Percent_100',\n",
      "       'Substation_100', 'HIFLD_100', 'Percent_200', 'Substation_200',\n",
      "       'HIFLD_200', 'Percent_CAISO', 'Substation_CAISO', 'HIFLD_CAISO',\n",
      "       'SolarTech', 'Area', 'Length', 'DistSub_100_binned',\n",
      "       'DistSub_200_binned', 'DistSub_CAISO_binned'],\n",
      "      dtype='object')\n"
     ]
    }
   ],
   "source": [
    "#loading the transformed Data Set\n",
    "solar_data = pd.read_csv(r\"solar_data_transformed18.csv\")\n",
    "print(solar_data.columns)"
   ]
  },
  {
   "cell_type": "code",
   "execution_count": 56,
   "id": "1c2abb32-3451-4f4a-aa3d-0077d6c89445",
   "metadata": {},
   "outputs": [],
   "source": [
    "X = solar_data.drop(columns=['ID','InstallType'])  # Features\n",
    "y = solar_data['InstallType']  # Target"
   ]
  },
  {
   "cell_type": "markdown",
   "id": "ecda4cf6",
   "metadata": {},
   "source": [
    "#### Gradient Boosting Machine (GBM) Model Implementation"
   ]
  },
  {
   "cell_type": "code",
   "execution_count": 57,
   "id": "5f56c849-d07a-4c38-a681-2b7fc8226aec",
   "metadata": {},
   "outputs": [],
   "source": [
    "# Split the data into training and test sets\n",
    "X_train, X_test, y_train, y_test = train_test_split(X, y, test_size=0.2, random_state=42)\n",
    "\n",
    "# Train the GBM model\n",
    "gbm_model = GradientBoostingClassifier(random_state=42)\n",
    "gbm_model.fit(X_train, y_train)\n",
    "\n",
    "# Make predictions\n",
    "y_pred = gbm_model.predict(X_test)\n",
    "\n",
    "# Evaluate the model\n",
    "accuracy = accuracy_score(y_test, y_pred)\n",
    "conf_matrix = confusion_matrix(y_test, y_pred)\n",
    "classification_rep = classification_report(y_test, y_pred)\n",
    "\n"
   ]
  },
  {
   "cell_type": "code",
   "execution_count": 40,
   "id": "ed870f0a",
   "metadata": {},
   "outputs": [
    {
     "name": "stdout",
     "output_type": "stream",
     "text": [
      "Accuracy: 0.925\n",
      "\n",
      "Confusion Matrix:\n",
      " [[405   6  16]\n",
      " [ 12 268   7]\n",
      " [ 19  21 326]]\n",
      "\n",
      "GBM Classification Report:\n",
      "               precision    recall  f1-score   support\n",
      "\n",
      "           0       0.93      0.95      0.94       427\n",
      "           1       0.91      0.93      0.92       287\n",
      "           2       0.93      0.89      0.91       366\n",
      "\n",
      "    accuracy                           0.93      1080\n",
      "   macro avg       0.92      0.92      0.92      1080\n",
      "weighted avg       0.93      0.93      0.92      1080\n",
      "\n",
      "ROC-AUC Score: 0.985874082222517\n"
     ]
    },
    {
     "data": {
      "image/png": "[encoded data removed]",
      "text/plain": [
       "<Figure size 640x480 with 2 Axes>"
      ]
     },
     "metadata": {},
     "output_type": "display_data"
    }
   ],
   "source": [
    "print(\"Accuracy:\", accuracy)\n",
    "print(\"\\nConfusion Matrix:\\n\", conf_matrix)\n",
    "print(\"\\nGBM Classification Report:\\n\", classification_rep)\n",
    "\n",
    "disp = ConfusionMatrixDisplay(confusion_matrix=conf_matrix)\n",
    "disp.plot(cmap='Greens')\n",
    "\n",
    "y_prob = gbm_model.predict_proba(X_test)\n",
    "roc_auc = roc_auc_score(y_test, y_prob, multi_class='ovr')\n",
    "print(\"ROC-AUC Score:\", roc_auc)"
   ]
  },
  {
   "cell_type": "code",
   "execution_count": null,
   "id": "601741d7-1865-4388-90e2-8c374e664dd8",
   "metadata": {},
   "outputs": [
    {
     "name": "stdout",
     "output_type": "stream",
     "text": [
      "Fitting 3 folds for each of 54 candidates, totalling 162 fits\n"
     ]
    }
   ],
   "source": [
    "# Define parameter grid\n",
    "param_grid = {\n",
    "    'learning_rate': [0.01, 0.1, 0.2],\n",
    "    'n_estimators': [100, 200, 300],\n",
    "    'max_depth': [3, 5, 7],\n",
    "    'subsample': [0.8, 1.0]\n",
    "}\n",
    "\n",
    "# Grid Search\n",
    "gbm = GradientBoostingClassifier(random_state=42)\n",
    "grid_search = GridSearchCV(estimator=gbm, param_grid=param_grid, cv=3, scoring='accuracy', verbose=1, n_jobs=-1)\n",
    "grid_search.fit(X_train, y_train)\n",
    "\n",
    "# Best model\n",
    "best_model = grid_search.best_estimator_\n",
    "print(\"Best Parameters:\", grid_search.best_params_)\n"
   ]
  },
  {
   "cell_type": "code",
   "execution_count": null,
   "id": "3f3fda07",
   "metadata": {},
   "outputs": [],
   "source": [
    "# Predict on the test set\n",
    "y_pred_gbm_tuned = best_gbm.predict(X_test)\n",
    "\n",
    "# Calculate accuracy\n",
    "gbm_tuned_accuracy = accuracy_score(y_test, y_pred_gbm_tuned)\n",
    "\n",
    "# Classification report for detailed metrics\n",
    "gbm_tuned_report = classification_report(y_test, y_pred_gbm_tuned)\n",
    "\n",
    "print(\"Tuned GBM Accuracy:\", gbm_tuned_accuracy)\n",
    "print(\"Tuned GBM Classification Report:\\n\", gbm_tuned_report)\n",
    "\n",
    "# Confusion matrix\n",
    "print(\"\\nConfusion Matrix:\\n\", confusion_matrix(y_test, y_pred_gbm_tuned))"
   ]
  },
  {
   "cell_type": "markdown",
   "id": "a84f8614-1576-4ffa-982b-139962957c97",
   "metadata": {},
   "source": [
    "#### GBM Insights"
   ]
  },
  {
   "cell_type": "markdown",
   "id": "ddeec994-a21d-42ba-bb3c-8d5e04642343",
   "metadata": {},
   "source": [
    "The tuned GBM performs slightly better than the initial model, indicating that hyperparameter optimization indeed increased the effectiveness of this model.\n",
    "\n",
    "1. Accuracy improved from to , indicating fine-tuning has reduced minor classification errors.\n",
    "2. Precision, Recall, and F1-scores are all around , indicating consistent performance across all classes.\n",
    "3. These metrics remain robust even after tuning, maintaining balance across the dataset."
   ]
  },
  {
   "cell_type": "markdown",
   "id": "0e9d0647",
   "metadata": {},
   "source": [
    "#### XGBoost implementation"
   ]
  },
  {
   "cell_type": "code",
   "execution_count": 53,
   "id": "b27cfc4f-a12f-4e24-b7ed-ec380cd38b05",
   "metadata": {},
   "outputs": [
    {
     "name": "stdout",
     "output_type": "stream",
     "text": [
      "XGBoost Accuracy: 0.9648148148148148\n",
      "\n",
      "Confusion Matrix:\n",
      " [[416   2   9]\n",
      " [  6 273   8]\n",
      " [  8   5 353]]\n",
      "\n",
      "XGBoost Classification Report:\n",
      "               precision    recall  f1-score   support\n",
      "\n",
      "           0       0.97      0.97      0.97       427\n",
      "           1       0.97      0.95      0.96       287\n",
      "           2       0.95      0.96      0.96       366\n",
      "\n",
      "    accuracy                           0.96      1080\n",
      "   macro avg       0.97      0.96      0.96      1080\n",
      "weighted avg       0.96      0.96      0.96      1080\n",
      "\n"
     ]
    },
    {
     "data": {
      "text/plain": [
       "<sklearn.metrics._plot.confusion_matrix.ConfusionMatrixDisplay at 0x1f7ee6f6d50>"
      ]
     },
     "execution_count": 53,
     "metadata": {},
     "output_type": "execute_result"
    },
    {
     "data": {
      "image/png": "[encoded data removed]",
      "text/plain": [
       "<Figure size 640x480 with 2 Axes>"
      ]
     },
     "metadata": {},
     "output_type": "display_data"
    }
   ],
   "source": [
    "# Split the data into training and test sets\n",
    "X_train, X_test, y_train, y_test = train_test_split(X, y, test_size=0.2, random_state=42)\n",
    "\n",
    "# Train the XGBoost model\n",
    "xgb_model = xgb.XGBClassifier(random_state=42)\n",
    "xgb_model.fit(X_train, y_train)\n",
    "\n",
    "# Make predictions\n",
    "y_pred_xgb = xgb_model.predict(X_test)\n",
    "\n",
    "# Evaluate the model\n",
    "accuracy_xgb = accuracy_score(y_test, y_pred_xgb)\n",
    "conf_matrix_xgb = confusion_matrix(y_test, y_pred_xgb)\n",
    "classification_rep_xgb = classification_report(y_test, y_pred_xgb)\n",
    "\n",
    "# Print evaluation results\n",
    "print(\"XGBoost Accuracy:\", accuracy_xgb)\n",
    "print(\"\\nConfusion Matrix:\\n\", conf_matrix_xgb)\n",
    "print(\"\\nXGBoost Classification Report:\\n\", classification_rep_xgb)\n",
    "\n",
    "# Display the confusion matrix\n",
    "disp_xgb = ConfusionMatrixDisplay(confusion_matrix=conf_matrix_xgb)\n",
    "disp_xgb.plot(cmap='Blues')  "
   ]
  },
  {
   "cell_type": "code",
   "execution_count": null,
   "id": "21adc67a-7a11-4abb-af19-c71ec2982be8",
   "metadata": {},
   "outputs": [],
   "source": []
  },
  {
   "cell_type": "markdown",
   "id": "ade339ef",
   "metadata": {},
   "source": []
  },
  {
   "cell_type": "code",
   "execution_count": null,
   "id": "eb1ea43f-38d4-4d9e-a093-939a646d806c",
   "metadata": {},
   "outputs": [],
   "source": []
  }
 ],
 "metadata": {
  "kernelspec": {
   "display_name": "Python 3 (ipykernel)",
   "language": "python",
   "name": "python3"
  },
  "language_info": {
   "codemirror_mode": {
    "name": "ipython",
    "version": 3
   },
   "file_extension": ".py",
   "mimetype": "text/x-python",
   "name": "python",
   "nbconvert_exporter": "python",
   "pygments_lexer": "ipython3",
   "version": "3.11.5"
  }
 },
 "nbformat": 4,
 "nbformat_minor": 5
}
