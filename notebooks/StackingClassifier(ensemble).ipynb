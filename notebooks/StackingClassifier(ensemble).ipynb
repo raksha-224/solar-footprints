{
 "cells": [
  {
   "cell_type": "markdown",
   "id": "59186649",
   "metadata": {},
   "source": [
    "**StackingClassifier(ensemble) considered in this notebook**"
   ]
  },
  {
   "cell_type": "code",
   "execution_count": null,
   "id": "e718e035",
   "metadata": {},
   "outputs": [],
   "source": [
    "#importing all the necessary libraries\n",
    "import pandas as pd\n",
    "import numpy as np\n",
    "from sklearn.model_selection import train_test_split,GridSearchCV\n",
    "from sklearn.tree import DecisionTreeClassifier\n",
    "from sklearn.svm import SVC\n",
    "from sklearn.linear_model import LogisticRegression\n",
    "from sklearn.ensemble import StackingClassifier\n",
    "from sklearn.metrics import accuracy_score, classification_report, confusion_matrix,roc_auc_score"
   ]
  },
  {
   "cell_type": "code",
   "execution_count": 6,
   "id": "cc6b1a12",
   "metadata": {},
   "outputs": [
    {
     "name": "stdout",
     "output_type": "stream",
     "text": [
      "Index(['ID', 'County', 'InstallType', 'UrbanRural', 'Class', 'Percent_100',\n",
      "       'Substation_100', 'HIFLD_100', 'Percent_200', 'Substation_200',\n",
      "       'HIFLD_200', 'Percent_CAISO', 'Substation_CAISO', 'HIFLD_CAISO',\n",
      "       'SolarTech', 'Area', 'Length', 'DistSub_100_binned',\n",
      "       'DistSub_200_binned', 'DistSub_CAISO_binned'],\n",
      "      dtype='object')\n"
     ]
    }
   ],
   "source": [
    "#loading the transformed Data Set\n",
    "solar_data = pd.read_csv(r\"solar_data_transformed18.csv\")\n",
    "print(solar_data.columns)"
   ]
  },
  {
   "cell_type": "code",
   "execution_count": 7,
   "id": "f6fd6389",
   "metadata": {},
   "outputs": [],
   "source": [
    "X = solar_data.drop(columns=['ID','InstallType'])  # Features\n",
    "y = solar_data['InstallType']  # Target"
   ]
  },
  {
   "cell_type": "code",
   "execution_count": null,
   "id": "09a3a30f",
   "metadata": {
    "scrolled": true
   },
   "outputs": [],
   "source": [
    "# Split the data into training and test sets\n",
    "X_train, X_test, y_train, y_test = train_test_split(X, y, test_size=0.2, random_state=42)\n",
    "\n",
    "# Base learners\n",
    "dt = DecisionTreeClassifier(random_state=42)\n",
    "svm = SVC(probability=True, random_state=42)\n",
    "\n",
    "# Meta learner\n",
    "lr = LogisticRegression(random_state=42, max_iter=500)\n",
    "\n",
    "# Stacking Classifier\n",
    "stacking_clf = StackingClassifier(\n",
    "    estimators=[\n",
    "        ('dt', dt),\n",
    "        ('svm', svm)\n",
    "    ],\n",
    "    final_estimator=lr,\n",
    "    cv=5,  # Cross-validation\n",
    "    n_jobs=-1\n",
    ")\n",
    "\n",
    "# Train the stacking classifier\n",
    "stacking_clf.fit(X_train, y_train)\n",
    "\n",
    "# Predict on test set\n",
    "y_pred = stacking_clf.predict(X_test)\n",
    "\n",
    "# Evaluate the model\n",
    "accuracy = accuracy_score(y_test, y_pred)\n",
    "print(f\"Stacking Classifier Accuracy: {accuracy:.4f}\")\n",
    "conf_matrix=confusion_matrix(y_test, y_pred)\n",
    "y_prob = stacking_clf.predict_proba(X_test)\n",
    "roc_auc = roc_auc_score(y_test, y_prob, multi_class='ovr')\n",
    "print(\"ROC-AUC Score:\", roc_auc)\n",
    "\n",
    "# Classification report and confusion matrix\n",
    "print(\"\\nClassification Report:\\n\", classification_report(y_test, y_pred))\n",
    "print(\"\\nConfusion Matrix:\\n\", confusion_matrix(y_test, y_pred))\n",
    "\n",
    "disp = ConfusionMatrixDisplay(confusion_matrix=conf_matrix)\n",
    "disp.plot(cmap='Blues')\n"
   ]
  },
  {
   "cell_type": "markdown",
   "id": "83b79848",
   "metadata": {},
   "source": [
    "Fine tuning the stacking classifier"
   ]
  },
  {
   "cell_type": "code",
   "execution_count": null,
   "id": "bbc10800",
   "metadata": {},
   "outputs": [
    {
     "name": "stdout",
     "output_type": "stream",
     "text": [
      "Fitting 5 folds for each of 162 candidates, totalling 810 fits\n"
     ]
    }
   ],
   "source": [
    "# Step 3: Define parameter grid for tuning\n",
    "param_grid = {\n",
    "    'dt__max_depth': [3, 5],\n",
    "    'dt__min_samples_split': [2, 5],\n",
    "    'svm__C': [0.1, 1],\n",
    "    'svm__kernel': ['linear'],\n",
    "    'final_estimator__C': [0.1, 1]\n",
    "}\n",
    "\n",
    "# Step 4: Use GridSearchCV\n",
    "grid_search = GridSearchCV(estimator=stacking_clf, param_grid=param_grid, cv=5, scoring='accuracy', verbose=1, n_jobs=-1)\n",
    "\n",
    "# Step 5: Train and find the best parameters\n",
    "grid_search.fit(X_train, y_train)\n",
    "\n",
    "# Best model and parameters\n",
    "best_model = grid_search.best_estimator_\n",
    "print(\"Best Parameters:\", grid_search.best_params_)\n",
    "\n",
    "# Step 6: Evaluate on the test set\n",
    "from sklearn.metrics import classification_report, accuracy_score\n",
    "\n",
    "y_pred = best_model.predict(X_test)\n",
    "print(\"Test Accuracy:\", accuracy_score(y_test, y_pred))\n",
    "print(\"Classification Report:\\n\", classification_report(y_test, y_pred))"
   ]
  },
  {
   "cell_type": "code",
   "execution_count": null,
   "id": "d20e3c13",
   "metadata": {},
   "outputs": [],
   "source": [
    "# Ensure binary format for true labels\n",
    "n_classes = len(best_model.classes_)  # Use classes_ from the StackingClassifier\n",
    "y_test_bin = label_binarize(y_test, classes=best_model.classes_)  # Binarize the true labels\n",
    "\n",
    "# Get predicted probabilities from the stacking classifier\n",
    "y_prob = best_model.predict_proba(X_test)\n",
    "\n",
    "# Create subplots\n",
    "fig, axes = plt.subplots(1, 2, figsize=(12, 4))  # 1 row, 2 columns\n",
    "\n",
    "# Plot Precision-Recall Curves\n",
    "for i in range(n_classes):\n",
    "    precision, recall, _ = precision_recall_curve(y_test_bin[:, i], y_prob[:, i])\n",
    "    axes[0].plot(recall, precision, label=f\"Class {best_model.classes_[i]}\")\n",
    "\n",
    "axes[0].set_title(\"Precision-Recall Curve (StackingClassifier)\", fontsize=12)\n",
    "axes[0].set_xlabel(\"Recall\", fontsize=10)\n",
    "axes[0].set_ylabel(\"Precision\", fontsize=10)\n",
    "axes[0].legend(loc=\"lower left\", fontsize='small')\n",
    "axes[0].grid(alpha=0.3)\n",
    "\n",
    "# Plot ROC Curves\n",
    "for i in range(n_classes):\n",
    "    fpr, tpr, _ = roc_curve(y_test_bin[:, i], y_prob[:, i])\n",
    "    roc_auc = auc(fpr, tpr)\n",
    "    axes[1].plot(fpr, tpr, label=f\"Class {best_model.classes_[i]} (AUC = {roc_auc:.2f})\")\n",
    "\n",
    "axes[1].plot([0, 1], [0, 1], color=\"gray\", linestyle=\"--\", label=\"Random Guess\")\n",
    "axes[1].set_title(\"ROC Curve (StackingClassifier)\", fontsize=12)\n",
    "axes[1].set_xlabel(\"False Positive Rate\", fontsize=10)\n",
    "axes[1].set_ylabel(\"True Positive Rate\", fontsize=10)\n",
    "axes[1].legend(loc=\"lower right\", fontsize='small')\n",
    "axes[1].grid(alpha=0.3)\n",
    "\n",
    "# Adjust layout and show the plots\n",
    "plt.tight_layout()\n",
    "plt.show()"
   ]
  },
  {
   "cell_type": "code",
   "execution_count": null,
   "id": "3ae6fddf",
   "metadata": {},
   "outputs": [],
   "source": []
  }
 ],
 "metadata": {
  "kernelspec": {
   "display_name": "Python 3 (ipykernel)",
   "language": "python",
   "name": "python3"
  },
  "language_info": {
   "codemirror_mode": {
    "name": "ipython",
    "version": 3
   },
   "file_extension": ".py",
   "mimetype": "text/x-python",
   "name": "python",
   "nbconvert_exporter": "python",
   "pygments_lexer": "ipython3",
   "version": "3.11.5"
  }
 },
 "nbformat": 4,
 "nbformat_minor": 5
}
