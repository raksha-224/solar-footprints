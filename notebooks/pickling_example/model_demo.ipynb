{
 "cells": [
  {
   "cell_type": "markdown",
   "id": "22dfefec",
   "metadata": {},
   "source": [
    "#### Loading the pickled file for demo (Example Code)"
   ]
  },
  {
   "cell_type": "code",
   "execution_count": 4,
   "id": "dcdef0c6",
   "metadata": {},
   "outputs": [
    {
     "name": "stdout",
     "output_type": "stream",
     "text": [
      "Model loaded successfully.\n"
     ]
    }
   ],
   "source": [
    "import pandas as pd\n",
    "import pickle\n",
    "\n",
    "#Loading the pickled model\n",
    "model_path = r\"C:\\Users\\bhava\\Downloads\\LogisticRegression.pkl\"\n",
    "with open(model_path, 'rb') as file:\n",
    "    loaded_model = pickle.load(file)\n",
    "\n",
    "print(\"Model loaded successfully.\")\n",
    "\n"
   ]
  },
  {
   "cell_type": "code",
   "execution_count": 5,
   "id": "74d7757d",
   "metadata": {},
   "outputs": [],
   "source": [
    "#Define feature names (should match the training data columns)\n",
    "feature_names = [\n",
    "    \"County\", \"InstallType\", \"UrbanRural\", \"Percent_100\", \"Substation_100\",\n",
    "    \"HIFLD_100\", \"Percent_200\", \"Substation_200\", \"HIFLD_200\",\n",
    "    \"Percent_CAISO\", \"Substation_CAISO\", \"HIFLD_CAISO\", \"SolarTech\",\n",
    "    \"Area\", \"Length\", \"DistSub_100_binned\", \"DistSub_200_binned\", \"DistSub_CAISO_binned\"\n",
    "]\n",
    "class_mapping = {\n",
    "    0: \"Ground\",\n",
    "    1: \"Parking\",\n",
    "    2: \"Rooftop\"\n",
    "}\n",
    "\n",
    "#Example input as a DataFrame\n",
    "sample_input = pd.DataFrame(\n",
    "    [[3, 2, 0, 0, 0, 1.078413738, 0, 2, 1.294543729, 3, 0, 1.589278262, 0, -0.534259442, -0.455304438, 2, 3, 0]],\n",
    "    columns=feature_names\n",
    ")\n"
   ]
  },
  {
   "cell_type": "code",
   "execution_count": 3,
   "id": "06a70947",
   "metadata": {},
   "outputs": [
    {
     "name": "stdout",
     "output_type": "stream",
     "text": [
      "Input: [ 3.          2.          0.          0.          0.          1.07841374\n",
      "  0.          2.          1.29454373  3.          0.          1.58927826\n",
      "  0.         -0.53425944 -0.45530444  2.          3.          0.        ]\n",
      "Predicted Class Index: 0\n",
      "Predicted Class Name: Ground\n",
      "Prediction Probabilities: [9.86371599e-01 1.36019098e-02 2.41384510e-05 2.17362221e-06\n",
      " 1.79548564e-07]\n"
     ]
    }
   ],
   "source": [
    "\n",
    "#Predict the class\n",
    "predicted_class = loaded_model.predict(sample_input)[0]\n",
    "\n",
    "#Predict probabilities\n",
    "probabilities = loaded_model.predict_proba(sample_input)[0]\n",
    "\n",
    "#Get the real name for the predicted class\n",
    "predicted_name = class_mapping[predicted_class]\n",
    "\n",
    "\n",
    "print(f\"Input: {sample_input.iloc[0].values}\")\n",
    "print(f\"Predicted Class Index: {predicted_class}\")\n",
    "print(f\"Predicted Class Name: {predicted_name}\")\n",
    "print(f\"Prediction Probabilities: {probabilities}\")\n"
   ]
  },
  {
   "cell_type": "code",
   "execution_count": null,
   "id": "2f108f53",
   "metadata": {},
   "outputs": [],
   "source": []
  }
 ],
 "metadata": {
  "kernelspec": {
   "display_name": "Python 3 (ipykernel)",
   "language": "python",
   "name": "python3"
  },
  "language_info": {
   "codemirror_mode": {
    "name": "ipython",
    "version": 3
   },
   "file_extension": ".py",
   "mimetype": "text/x-python",
   "name": "python",
   "nbconvert_exporter": "python",
   "pygments_lexer": "ipython3",
   "version": "3.11.5"
  }
 },
 "nbformat": 4,
 "nbformat_minor": 5
}
