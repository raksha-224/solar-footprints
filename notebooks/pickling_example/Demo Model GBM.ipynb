{
 "cells": [
  {
   "cell_type": "code",
   "execution_count": 32,
   "id": "ff8d900c",
   "metadata": {},
   "outputs": [
    {
     "name": "stdout",
     "output_type": "stream",
     "text": [
      "Model loaded successfully.\n"
     ]
    }
   ],
   "source": [
    "import pandas as pd\n",
    "import pickle\n",
    "\n",
    "#Loading the pickled model\n",
    "model_path = r\"GBMmodel.pkl\"\n",
    "with open(model_path, 'rb') as file:\n",
    "    model = pickle.load(file)\n",
    "\n",
    "print(\"Model loaded successfully.\")"
   ]
  },
  {
   "cell_type": "code",
   "execution_count": 39,
   "id": "689feef9",
   "metadata": {},
   "outputs": [
    {
     "name": "stdout",
     "output_type": "stream",
     "text": [
      "The predicted installation type is: Parking\n"
     ]
    }
   ],
   "source": [
    "import pandas as pd\n",
    "import pickle\n",
    "\n",
    "# Define feature names (ensure these match the order used during training)\n",
    "feature_names = [\n",
    "    \"County\",\"UrbanRural\",\"Class\", \"Percent_100\", \"Substation_100\",\n",
    "    \"HIFLD_100\", \"Percent_200\", \"Substation_200\", \"HIFLD_200\",\n",
    "    \"Percent_CAISO\", \"Substation_CAISO\", \"HIFLD_CAISO\", \"SolarTech\",\n",
    "    \"Area\", \"Length\", \"DistSub_100_binned\", \"DistSub_200_binned\", \"DistSub_CAISO_binned\"\n",
    "]\n",
    "\n",
    "# Input data as a DataFrame\n",
    "sample_input = pd.DataFrame(\n",
    "    [[2,0, 0, 1, 1, 0.20482855677726328, 0, 2, 1.028971760866293, 2, 0, 1.589278262469465, 0, -0.888685078, -0.933111122, 2, 2, 1]],\n",
    "    columns=feature_names\n",
    ")\n",
    "\n",
    "# Make predictions\n",
    "y_pred = model.predict(sample_input)\n",
    "\n",
    "# Map predicted class to its label\n",
    "class_mapping = {\n",
    "    0: \"Ground\",\n",
    "    1: \"Parking\",\n",
    "    2: \"Rooftop\"\n",
    "}\n",
    "\n",
    "# Output the prediction result\n",
    "predicted_class = class_mapping[y_pred[0]]\n",
    "print(f\"The predicted installation type is: {predicted_class}\")"
   ]
  },
  {
   "cell_type": "code",
   "execution_count": 40,
   "id": "1982da6a",
   "metadata": {},
   "outputs": [
    {
     "name": "stdout",
     "output_type": "stream",
     "text": [
      "Missing Features in Input (but required by the model): set()\n",
      "Extra Features in Input (not required by the model): set()\n"
     ]
    }
   ],
   "source": [
    "#if mismatched (Check this flow to get an idea)\n",
    "\n",
    "# Check if the model has the feature names stored\n",
    "if hasattr(model, 'feature_names_in_'):\n",
    "    model_features = model.feature_names_in_\n",
    "else:\n",
    "    raise ValueError(\"The model does not have `feature_names_in_`. Ensure you trained it with pandas DataFrame.\")\n",
    "\n",
    "# Get the input features\n",
    "input_features = sample_input.columns\n",
    "\n",
    "# Find mismatched features\n",
    "missing_features = set(model_features) - set(input_features)\n",
    "extra_features = set(input_features) - set(model_features)\n",
    "\n",
    "print(\"Missing Features in Input (but required by the model):\", missing_features)\n",
    "print(\"Extra Features in Input (not required by the model):\", extra_features)\n"
   ]
  }
 ],
 "metadata": {
  "kernelspec": {
   "display_name": "Python 3 (ipykernel)",
   "language": "python",
   "name": "python3"
  },
  "language_info": {
   "codemirror_mode": {
    "name": "ipython",
    "version": 3
   },
   "file_extension": ".py",
   "mimetype": "text/x-python",
   "name": "python",
   "nbconvert_exporter": "python",
   "pygments_lexer": "ipython3",
   "version": "3.11.5"
  }
 },
 "nbformat": 4,
 "nbformat_minor": 5
}
