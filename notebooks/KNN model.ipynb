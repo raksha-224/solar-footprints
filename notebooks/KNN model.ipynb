{
 "cells": [
  {
   "cell_type": "code",
   "execution_count": 56,
   "id": "8cf3617e",
   "metadata": {},
   "outputs": [],
   "source": [
    "# Step 1: Import necessary libraries\n",
    "import pandas as pd\n",
    "from sklearn.model_selection import train_test_split\n",
    "from sklearn.preprocessing import LabelEncoder, StandardScaler\n",
    "from sklearn.neighbors import KNeighborsClassifier\n",
    "from sklearn.metrics import accuracy_score, confusion_matrix\n",
    "from sklearn.model_selection import cross_val_score\n",
    "from sklearn.metrics import accuracy_score, confusion_matrix, classification_report\n"
   ]
  },
  {
   "cell_type": "code",
   "execution_count": 57,
   "id": "63567c02",
   "metadata": {},
   "outputs": [],
   "source": [
    "#loading the Data Set\n",
    "solar_data = pd.read_csv(r\"solar_data.csv\")"
   ]
  },
  {
   "cell_type": "code",
   "execution_count": 58,
   "id": "71d49861",
   "metadata": {},
   "outputs": [],
   "source": [
    "# Step 3: Define target and features\n",
    "# Assume we're predicting 'InstallType'\n",
    "target = 'InstallType'\n",
    "features = ['Acres', 'DistSub_100', 'DistSub_200', 'DistSub_CAISO', 'Area', 'Length']"
   ]
  },
  {
   "cell_type": "code",
   "execution_count": 59,
   "id": "609fff53",
   "metadata": {},
   "outputs": [],
   "source": [
    "# Step 4: Preprocess the data\n",
    "# Encoding categorical variables\n",
    "label_encoder = LabelEncoder()\n",
    "solar_data['InstallType'] = label_encoder.fit_transform(solar_data['InstallType'])"
   ]
  },
  {
   "cell_type": "code",
   "execution_count": 60,
   "id": "2e18c60d",
   "metadata": {},
   "outputs": [],
   "source": [
    "# Feature scaling\n",
    "scaler = StandardScaler()\n",
    "X = scaler.fit_transform(solar_data[features])\n",
    "\n",
    "# Target variable\n",
    "y = solar_data[target]"
   ]
  },
  {
   "cell_type": "code",
   "execution_count": 61,
   "id": "9b17fdba",
   "metadata": {},
   "outputs": [],
   "source": [
    "# Step 5: Split the data into training and testing sets (Direct appraoch[Directholdout method])\n",
    "X_train, X_test, y_train, y_test = train_test_split(X, y, test_size=0.2, random_state=42)\n",
    "# This splits 80% of the data into training and 20% into testing."
   ]
  },
  {
   "cell_type": "code",
   "execution_count": 62,
   "id": "09a2f1a1",
   "metadata": {},
   "outputs": [],
   "source": [
    "# Step 6a: Apply the KNN classifier\n",
    "knn = KNeighborsClassifier(n_neighbors=3)  # You can tune the number of neighbors\n",
    "knn.fit(X_train, y_train)\n",
    "\n",
    "# Step 7: Make predictions\n",
    "y_pred = knn.predict(X_test)"
   ]
  },
  {
   "cell_type": "code",
   "execution_count": 63,
   "id": "43b669f8",
   "metadata": {},
   "outputs": [
    {
     "name": "stdout",
     "output_type": "stream",
     "text": [
      "Accuracy: 0.6146044624746451\n"
     ]
    }
   ],
   "source": [
    "# Step 8: Evaluate the model\n",
    "accuracy = accuracy_score(y_test, y_pred)\n",
    "conf_matrix = confusion_matrix(y_test, y_pred)\n",
    "\n",
    "print(f'Accuracy: {accuracy}')"
   ]
  },
  {
   "cell_type": "code",
   "execution_count": 64,
   "id": "8ea4d6aa",
   "metadata": {},
   "outputs": [
    {
     "name": "stdout",
     "output_type": "stream",
     "text": [
      "[0.54462475 0.52588832 0.53096447 0.45685279 0.53807107]\n",
      "Mean accuracy: 0.5192802792392994\n"
     ]
    }
   ],
   "source": [
    "# Step 6a: Apply the KNN classifier\n",
    "knn = KNeighborsClassifier(n_neighbors=3)\n",
    "\n",
    "# 5-fold cross-validation\n",
    "scores = cross_val_score(knn, X, y, cv=5)\n",
    "\n",
    "# Output the accuracy from each fold\n",
    "print(scores)\n",
    "print(f'Mean accuracy: {scores.mean()}')"
   ]
  },
  {
   "cell_type": "code",
   "execution_count": 65,
   "id": "d8a368d0",
   "metadata": {},
   "outputs": [
    {
     "name": "stdout",
     "output_type": "stream",
     "text": [
      "Classification Report:\n",
      "              precision    recall  f1-score   support\n",
      "\n",
      "           0       0.72      0.77      0.74       404\n",
      "           1       0.49      0.42      0.45       259\n",
      "           2       0.56      0.57      0.57       323\n",
      "\n",
      "    accuracy                           0.61       986\n",
      "   macro avg       0.59      0.59      0.59       986\n",
      "weighted avg       0.61      0.61      0.61       986\n",
      "\n"
     ]
    }
   ],
   "source": [
    "# Classification report for precision, recall, and F1-score\n",
    "report = classification_report(y_test, y_pred)\n",
    "print(\"Classification Report:\")\n",
    "print(report)"
   ]
  }
 ],
 "metadata": {
  "kernelspec": {
   "display_name": "Python 3 (ipykernel)",
   "language": "python",
   "name": "python3"
  },
  "language_info": {
   "codemirror_mode": {
    "name": "ipython",
    "version": 3
   },
   "file_extension": ".py",
   "mimetype": "text/x-python",
   "name": "python",
   "nbconvert_exporter": "python",
   "pygments_lexer": "ipython3",
   "version": "3.11.5"
  }
 },
 "nbformat": 4,
 "nbformat_minor": 5
}
